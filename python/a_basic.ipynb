{
 "cells": [
  {
   "cell_type": "markdown",
   "metadata": {},
   "source": [
    "### 연산자\n",
    "\n",
    "##### 산술연산자\n",
    "- '+' : 더하기\n",
    "- '-' : 빼기\n",
    "- '*' : 곱하기\n",
    "- '/' : 나누기\n",
    "- '%' : 나머지\n",
    "- '//' : 몫 구하기\n",
    "- '**' : 거듭제곱"
   ]
  },
  {
   "cell_type": "code",
   "execution_count": null,
   "metadata": {},
   "outputs": [],
   "source": []
  },
  {
   "cell_type": "markdown",
   "metadata": {},
   "source": [
    "##### 비교 연산자\n",
    "- '>' : 크다\n",
    "- '>=' : 크거나 같다\n",
    "- '<' : 작다\n",
    "- '<=' : 작거나 같다\n",
    "- '==' : 같다\n",
    "- '!=' : 다르다"
   ]
  },
  {
   "cell_type": "code",
   "execution_count": null,
   "metadata": {},
   "outputs": [],
   "source": []
  },
  {
   "cell_type": "markdown",
   "metadata": {},
   "source": [
    "##### 논리연산자\n",
    "- and : 논리 곱\n",
    "- or : 논리 합\n",
    "- not : 논리 부정"
   ]
  },
  {
   "cell_type": "code",
   "execution_count": null,
   "metadata": {},
   "outputs": [],
   "source": []
  },
  {
   "cell_type": "markdown",
   "metadata": {},
   "source": [
    "### 변수\n",
    "데이터를 저장하는 공간\n",
    "파이썬에서는 변수의 특정 데이터 타입이 존재하지 않음\n",
    "즉, 하나의 변수에 여러 데이터 타입을 할당할 수 있음"
   ]
  },
  {
   "cell_type": "code",
   "execution_count": 2,
   "metadata": {},
   "outputs": [
    {
     "name": "stdout",
     "output_type": "stream",
     "text": [
      "0.44\n"
     ]
    }
   ],
   "source": [
    "variable = .44\n",
    "print(variable)"
   ]
  },
  {
   "cell_type": "code",
   "execution_count": 1,
   "metadata": {},
   "outputs": [
    {
     "data": {
      "text/plain": [
       "'문자열1'"
      ]
     },
     "execution_count": 1,
     "metadata": {},
     "output_type": "execute_result"
    }
   ],
   "source": [
    "variable = '문자열1'\n",
    "variable"
   ]
  },
  {
   "cell_type": "markdown",
   "metadata": {},
   "source": [
    "### 데이터타입\n",
    "- 정수형\n",
    "- 실수형\n",
    "- 논리형\n",
    "- 문자열"
   ]
  },
  {
   "cell_type": "code",
   "execution_count": null,
   "metadata": {},
   "outputs": [],
   "source": []
  },
  {
   "cell_type": "markdown",
   "metadata": {},
   "source": [
    "### 데이터타입 변환\n",
    "- int() : 특정 데이터를 정수형으로 변환\n",
    "- float() : 특정 데이터를 실수형으로 변환\n",
    "- bool() : 특정 데이터를 논리형으로 변환\n",
    "- str() : 특정 데이터를 문자열으로 변환"
   ]
  },
  {
   "cell_type": "code",
   "execution_count": 4,
   "metadata": {},
   "outputs": [
    {
     "data": {
      "text/plain": [
       "True"
      ]
     },
     "execution_count": 4,
     "metadata": {},
     "output_type": "execute_result"
    }
   ],
   "source": [
    "bool('False')"
   ]
  },
  {
   "cell_type": "code",
   "execution_count": 6,
   "metadata": {},
   "outputs": [
    {
     "data": {
      "text/plain": [
       "False"
      ]
     },
     "execution_count": 6,
     "metadata": {},
     "output_type": "execute_result"
    }
   ],
   "source": [
    "# 문자열 False를 이용해서 False를 반환하기\n",
    "var = 'False' \n",
    "var != 'False'"
   ]
  },
  {
   "cell_type": "markdown",
   "metadata": {},
   "source": [
    "### NaN, Inf\n",
    "\n",
    "- NaN (Not a Number) : 숫자가 아님을 나타냄\n",
    "- Inf (Infinity) : 무한대"
   ]
  },
  {
   "cell_type": "code",
   "execution_count": null,
   "metadata": {},
   "outputs": [],
   "source": []
  },
  {
   "cell_type": "markdown",
   "metadata": {},
   "source": [
    "### 대입연산자\n",
    "\n",
    "- '=' : 좌항에 우항을 대입\n",
    "- '+=' : 좌항에 좌항값에 우항을 더한 값을 대입\n",
    "- '-=' : 좌항에 좌항값에 우항을 뺀 값을 대입\n",
    "- '*=' : 좌항에 좌항값에 우항을 곱한 값을 대입\n",
    "- '/=' : 좌항에 좌항값에 우항을 나눈 값을 대입\n",
    "- '**=' : 좌항에 좌항값에 우항을 거듭제곱한 값을 대입\n",
    "- '//=' : 좌항에 좌항값에 우항을 나눈몫 값을 대입\n",
    "\n",
    "##### 파이썬은 증감연산자가 존재하지 않음\n",
    "증감을 표현하고 싶으면  \n",
    "변수 += 1 , 변수 -= 1"
   ]
  },
  {
   "cell_type": "code",
   "execution_count": null,
   "metadata": {},
   "outputs": [],
   "source": []
  },
  {
   "cell_type": "markdown",
   "metadata": {},
   "source": [
    "### 문자열\n",
    "\n",
    "- 출력 : print() 함수로 문자열 출력\n",
    "- 문자열 연산 : + 연결, * 반복\n",
    "- 타 데이터 타입과 연결 : 반드시 타 데이터 타입을 str() 형변환 함수로 변형 후 연결해야함\n",
    "- 문자열 : ' 혹은 \" 로 묶어서 표현, \\n 으로 줄바꿈 가능\n",
    "- 여러줄의 문자열 : ''' 혹은 \"\"\"로 표현\n",
    "- 문자열 치환 : .replace() 문자열 메서드로 특정 문자열을 변경 가능\n",
    "- f문자열 : 문자열 앞에 f라는 키워드를 붙여서 문자열의 포멧을 만들어 사용 가능"
   ]
  },
  {
   "cell_type": "code",
   "execution_count": null,
   "metadata": {},
   "outputs": [],
   "source": []
  }
 ],
 "metadata": {
  "kernelspec": {
   "display_name": "Python 3",
   "language": "python",
   "name": "python3"
  },
  "language_info": {
   "codemirror_mode": {
    "name": "ipython",
    "version": 3
   },
   "file_extension": ".py",
   "mimetype": "text/x-python",
   "name": "python",
   "nbconvert_exporter": "python",
   "pygments_lexer": "ipython3",
   "version": "3.13.1"
  }
 },
 "nbformat": 4,
 "nbformat_minor": 2
}
