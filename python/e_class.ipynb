{
 "cells": [
  {
   "cell_type": "markdown",
   "metadata": {},
   "source": [
    "### 클래스\n",
    "객체에 대한 정의  \n",
    "같은 속성 혹은 기능의 집합\n",
    "```python\n",
    "class 클래스명():\n",
    "    def __init__(self, 매개변수1, ...):\n",
    "        self.속성1 = 속성값1\n",
    "        ...\n",
    "    \n",
    "    def 메서드명(self):\n",
    "        ...\n",
    "```"
   ]
  },
  {
   "cell_type": "code",
   "execution_count": null,
   "metadata": {},
   "outputs": [],
   "source": []
  },
  {
   "cell_type": "markdown",
   "metadata": {},
   "source": [
    "##### 클래스의 인스턴스 생성\n",
    "```python\n",
    "변수 = 클래스명(매개변수, ...)\n",
    "```"
   ]
  },
  {
   "cell_type": "code",
   "execution_count": null,
   "metadata": {},
   "outputs": [],
   "source": []
  },
  {
   "cell_type": "markdown",
   "metadata": {},
   "source": [
    "##### 클래스 상속\n",
    "이미 정의된 클래스를 재사용하는 기법  \n",
    "코드 재사용성을 높여서 코드 중복 제거, 유지보수성을 향상\n",
    "```python\n",
    "class 클래스명(부모클래스):\n",
    "    def __init__(self, 매개변수...):\n",
    "        super(자식클래스명, self).__init__(매개변수...)\n",
    "        ...\n",
    "```"
   ]
  },
  {
   "cell_type": "code",
   "execution_count": null,
   "metadata": {},
   "outputs": [],
   "source": []
  },
  {
   "cell_type": "markdown",
   "metadata": {},
   "source": [
    "##### 메서드 오버로딩과 오버라이딩\n",
    "오버로딩 : 같은 이름의 메서드를 매개변수의 조합을 다르게하여 여러개 정의하는 것, 파이썬에서는 오버로딩을 지원하지 않음  \n",
    "오버라이딩 : 부모 클래스의 메서드를 재정의하는 것"
   ]
  },
  {
   "cell_type": "code",
   "execution_count": null,
   "metadata": {},
   "outputs": [],
   "source": []
  },
  {
   "cell_type": "markdown",
   "metadata": {},
   "source": [
    "##### 특수 메서드\n",
    "파이썬 클래스에서 제공하는 __메서드명__ 형태의 특수한 메서드  \n",
    "```python\n",
    "__repr__(self) # 인스턴스 자체 출력시 표현할 방법\n",
    "__str__(self) # 인스턴스를 문자열로 형변환시 표현할 방법\n",
    "__getitem__(self, key) # 인스턴스를 딕셔너리와 같이 인덱싱 기법을 사용할 수 있도록 하는 방법\n",
    "```"
   ]
  },
  {
   "cell_type": "code",
   "execution_count": null,
   "metadata": {},
   "outputs": [],
   "source": []
  }
 ],
 "metadata": {
  "kernelspec": {
   "display_name": "Python 3",
   "language": "python",
   "name": "python3"
  },
  "language_info": {
   "codemirror_mode": {
    "name": "ipython",
    "version": 3
   },
   "file_extension": ".py",
   "mimetype": "text/x-python",
   "name": "python",
   "nbconvert_exporter": "python",
   "pygments_lexer": "ipython3",
   "version": "3.12.4"
  }
 },
 "nbformat": 4,
 "nbformat_minor": 2
}
