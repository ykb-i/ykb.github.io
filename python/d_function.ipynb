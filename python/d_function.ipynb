{
 "cells": [
  {
   "cell_type": "markdown",
   "metadata": {},
   "source": [
    "##### 함수 : 실행할 코드를 미리 지정해두고 사용하는 것\n",
    "```python\n",
    "def 함수명(매개변수, ...):\n",
    "    실행할 구문\n",
    "    return 반환값\n",
    "```"
   ]
  },
  {
   "cell_type": "code",
   "execution_count": null,
   "metadata": {},
   "outputs": [],
   "source": []
  },
  {
   "cell_type": "markdown",
   "metadata": {},
   "source": [
    "##### 파이썬에서 함수의 반환값은 여러개를 반환할 수 있음\n",
    "```python\n",
    "def 함수명(매개변수, ...):\n",
    "    실행할 구문\n",
    "    return 반환값1, 반환값2\n",
    "```"
   ]
  },
  {
   "cell_type": "code",
   "execution_count": null,
   "metadata": {},
   "outputs": [],
   "source": []
  },
  {
   "cell_type": "markdown",
   "metadata": {},
   "source": [
    "### 람다함수\n",
    "이름없이 선언하여 바로 사용하는 함수  \n",
    "함수를 변수에 담아서 사용하는 용도로도 사용됨\n",
    "```python\n",
    "lambda 매개변수: 반환할 표현식\n",
    "```\n",
    "파이썬에서는 람다함수의 실행코드는 여러줄 작성 불가능"
   ]
  },
  {
   "cell_type": "code",
   "execution_count": null,
   "metadata": {},
   "outputs": [],
   "source": []
  },
  {
   "cell_type": "markdown",
   "metadata": {},
   "source": [
    "### 지역변수와 전역변수\n",
    "지역에서 선언된 변수는 지역 외부에서 사용이 불가능  \n",
    "지역에서 글로번 변수를 사용하고자 한다면 global 키워드로 특정 변수를 사용하겠다고 지정해야함"
   ]
  },
  {
   "cell_type": "code",
   "execution_count": null,
   "metadata": {},
   "outputs": [],
   "source": []
  }
 ],
 "metadata": {
  "kernelspec": {
   "display_name": "Python 3",
   "language": "python",
   "name": "python3"
  },
  "language_info": {
   "codemirror_mode": {
    "name": "ipython",
    "version": 3
   },
   "file_extension": ".py",
   "mimetype": "text/x-python",
   "name": "python",
   "nbconvert_exporter": "python",
   "pygments_lexer": "ipython3",
   "version": "3.12.4"
  }
 },
 "nbformat": 4,
 "nbformat_minor": 2
}
