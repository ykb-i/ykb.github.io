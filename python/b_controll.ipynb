{
 "cells": [
  {
   "cell_type": "markdown",
   "metadata": {},
   "source": [
    "### 조건문\n",
    "##### if 문\n",
    "```python\n",
    "if 조건 논리표현식:\n",
    "    조건이 참일때 실행할 구문\n",
    "```"
   ]
  },
  {
   "cell_type": "code",
   "execution_count": null,
   "metadata": {},
   "outputs": [],
   "source": []
  },
  {
   "cell_type": "markdown",
   "metadata": {},
   "source": [
    "##### else 문\n",
    "```python\n",
    "if 조건 논리 표현식:\n",
    "    조건이 참일때 실행할 구문\n",
    "else:\n",
    "    조건이 거짓일때 실행할 구문\n",
    "```"
   ]
  },
  {
   "cell_type": "code",
   "execution_count": null,
   "metadata": {},
   "outputs": [],
   "source": []
  },
  {
   "cell_type": "markdown",
   "metadata": {},
   "source": [
    "##### elif 구문\n",
    "```python\n",
    "if 첫번째 조건 논리 표현식:\n",
    "    첫번째 조건이 참일 때 실행할 구문\n",
    "elif 두번째 조건 논리 표현식:\n",
    "    두번째 조건이 참일 때 실행할 구문\n",
    "else:\n",
    "    위의 모든 조건이 거짓일 때 실행할 구문\n",
    "```"
   ]
  },
  {
   "cell_type": "code",
   "execution_count": null,
   "metadata": {},
   "outputs": [],
   "source": []
  },
  {
   "cell_type": "markdown",
   "metadata": {},
   "source": [
    "#### 죄수의 딜레마\n",
    "용의자 두 명(A, B)이 체포됨,  \n",
    "심문 중 자백 및 침묵을 권유받음  \n",
    "1. 둘 중 하나만 자백을 하게되면 자백한 사람은 즉시 풀려나고 침묵한 사람은 10년형\n",
    "2. 둘 다 자백을 하면 모두 5년형\n",
    "3. 둘 다 침묵을 하면 모두 1년형\n",
    "이때 죄수의 선택을 나태내는 변수 XA, XB와 죄수의 복역 연수를 나타내는 변수 YA, YB라 할때  \n",
    "XA와 XB를 입력을 받고 YA와 YB를 'A의 복역 연수: 10, B의 복역 연수: 0' 형태로 출력하시오."
   ]
  },
  {
   "cell_type": "code",
   "execution_count": null,
   "metadata": {},
   "outputs": [],
   "source": []
  },
  {
   "cell_type": "markdown",
   "metadata": {},
   "source": [
    "### 반복문\n",
    "```python\n",
    "for 변수 in range(반복횟수):\n",
    "    반복할 구문\n",
    "```\n",
    "  \n",
    "- range(정수) : 0부터 매개변수로 전달할 정수-1 까지의 정수 리스트를 반환\n",
    "- range(시작정수, 종료정수) : 시작 정수부터 종료 정수-1 까지의 정수 리스트를 반환\n",
    "- range(시작정수, 종료정수, 차이정수) : 시작 정수부터 종료 정수-1 까지의 정수 리스트를 반환 차이가 차이 정수 만큼인 정수 리스트 반환"
   ]
  },
  {
   "cell_type": "code",
   "execution_count": null,
   "metadata": {},
   "outputs": [],
   "source": []
  },
  {
   "cell_type": "markdown",
   "metadata": {},
   "source": [
    "#### 삼각형 그리기  \n",
    "\n",
    "1.  \n",
    "@  \n",
    "@@  \n",
    "@@@  \n",
    "@@@@  \n",
    "@@@@@  \n",
    "@@@@@@  \n",
    "@@@@@@@  \n",
    "@@@@@@@@  \n",
    "@@@@@@@@@  \n",
    "@@@@@@@@@@  \n",
    "\n",
    "2.  \n",
    "@@@@@@@@@@  \n",
    "@@@@@@@@@  \n",
    "@@@@@@@@  \n",
    "@@@@@@@  \n",
    "@@@@@@  \n",
    "@@@@@  \n",
    "@@@@  \n",
    "@@@  \n",
    "@@  \n",
    "@  \n",
    "  \n",
    "3.  \n",
    "@  \n",
    "@@  \n",
    "@@@  \n",
    "@@@@  \n",
    "@@@@@  \n",
    "@@@@@@  \n",
    "@@@@@  \n",
    "@@@@  \n",
    "@@@  \n",
    "@@  \n",
    "@  \n"
   ]
  },
  {
   "cell_type": "code",
   "execution_count": null,
   "metadata": {},
   "outputs": [],
   "source": []
  }
 ],
 "metadata": {
  "kernelspec": {
   "display_name": "Python 3",
   "language": "python",
   "name": "python3"
  },
  "language_info": {
   "codemirror_mode": {
    "name": "ipython",
    "version": 3
   },
   "file_extension": ".py",
   "mimetype": "text/x-python",
   "name": "python",
   "nbconvert_exporter": "python",
   "pygments_lexer": "ipython3",
   "version": "3.12.0"
  }
 },
 "nbformat": 4,
 "nbformat_minor": 2
}
