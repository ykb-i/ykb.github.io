{
 "cells": [
  {
   "cell_type": "markdown",
   "metadata": {},
   "source": [
    "### 외장 패키지 (라이브러리)\n",
    "외장 패키지를 설치를 하기위해서는 pip로 패키지를 설치해야함\n",
    "```bash\n",
    "pip install 패키지명\n",
    "pip install scikit-learn\n",
    "```\n",
    "설치한 패키지를 해당 파일에서 사용하고자 한다면 먼저 임포트가 필요\n",
    "```python\n",
    "import 패키지명\n",
    "import 패키지명 as 별칭\n",
    "```"
   ]
  },
  {
   "cell_type": "code",
   "execution_count": null,
   "metadata": {},
   "outputs": [],
   "source": []
  },
  {
   "cell_type": "markdown",
   "metadata": {},
   "source": [
    "패키지의 포함된 정보를 보고 싶으면 dir() 내장 함수를 사용"
   ]
  },
  {
   "cell_type": "code",
   "execution_count": null,
   "metadata": {},
   "outputs": [],
   "source": []
  },
  {
   "cell_type": "markdown",
   "metadata": {},
   "source": [
    "패키지 내부의 다른 패키지만 임포트하고자 하면 패키지명.하위패키지로 임포트\n",
    "```python\n",
    "import 패키지명.하위패키지명\n",
    "```"
   ]
  },
  {
   "cell_type": "code",
   "execution_count": null,
   "metadata": {},
   "outputs": [],
   "source": []
  },
  {
   "cell_type": "markdown",
   "metadata": {},
   "source": [
    "패키지의 구성요소 중 특정한 요소만 사용하고자할 때 선택적으로 임포트할 수 있음\n",
    "```python\n",
    "from 패키지명 import 구성요소\n",
    "```"
   ]
  },
  {
   "cell_type": "code",
   "execution_count": null,
   "metadata": {},
   "outputs": [],
   "source": []
  }
 ],
 "metadata": {
  "kernelspec": {
   "display_name": "Python 3",
   "language": "python",
   "name": "python3"
  },
  "language_info": {
   "codemirror_mode": {
    "name": "ipython",
    "version": 3
   },
   "file_extension": ".py",
   "mimetype": "text/x-python",
   "name": "python",
   "nbconvert_exporter": "python",
   "pygments_lexer": "ipython3",
   "version": "3.12.4"
  }
 },
 "nbformat": 4,
 "nbformat_minor": 2
}
